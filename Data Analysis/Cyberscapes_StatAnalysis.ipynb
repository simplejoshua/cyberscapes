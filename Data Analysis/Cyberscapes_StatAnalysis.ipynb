{
  "cells": [
    {
      "attachments": {},
      "cell_type": "markdown",
      "metadata": {},
      "source": [
        "# __DATA ANALYSIS__\n",
        "# Cyberscapes: Serious Games as a Strategy for Enhancing Filipino Cybersecurity Literacy and Interest"
      ]
    },
    {
      "attachments": {},
      "cell_type": "markdown",
      "metadata": {
        "id": "fO8tHMBfatK0"
      },
      "source": [
        "## Preliminaries"
      ]
    },
    {
      "cell_type": "code",
      "execution_count": 66,
      "metadata": {
        "colab": {
          "base_uri": "https://localhost:8080/",
          "height": 507
        },
        "id": "VzW1okAO8j5y",
        "outputId": "9c2dad9f-1a90-4221-ce02-d8206f86cca0"
      },
      "outputs": [
        {
          "data": {
            "text/html": [
              "<div>\n",
              "<style scoped>\n",
              "    .dataframe tbody tr th:only-of-type {\n",
              "        vertical-align: middle;\n",
              "    }\n",
              "\n",
              "    .dataframe tbody tr th {\n",
              "        vertical-align: top;\n",
              "    }\n",
              "\n",
              "    .dataframe thead th {\n",
              "        text-align: right;\n",
              "    }\n",
              "</style>\n",
              "<table border=\"1\" class=\"dataframe\">\n",
              "  <thead>\n",
              "    <tr style=\"text-align: right;\">\n",
              "      <th></th>\n",
              "      <th>Survey Language</th>\n",
              "      <th>Timestamp</th>\n",
              "      <th>Age</th>\n",
              "      <th>Gender</th>\n",
              "      <th>Preferred Languages</th>\n",
              "      <th>Current Occupation</th>\n",
              "      <th>Last School Attended</th>\n",
              "      <th>Highest Educational Attainment</th>\n",
              "      <th>Associate Program</th>\n",
              "      <th>Undergraduate Program D</th>\n",
              "      <th>...</th>\n",
              "      <th>POSTK07</th>\n",
              "      <th>POSTK08</th>\n",
              "      <th>POSTK09</th>\n",
              "      <th>POSTK10</th>\n",
              "      <th>POSTK11</th>\n",
              "      <th>POSTK12</th>\n",
              "      <th>POSTK13</th>\n",
              "      <th>POSTK14</th>\n",
              "      <th>POSTK15</th>\n",
              "      <th>POSTK16</th>\n",
              "    </tr>\n",
              "  </thead>\n",
              "  <tbody>\n",
              "    <tr>\n",
              "      <th>1</th>\n",
              "      <td>ENG</td>\n",
              "      <td>6/28/2023 12:58:40</td>\n",
              "      <td>21.0</td>\n",
              "      <td>Male</td>\n",
              "      <td>English</td>\n",
              "      <td>Student</td>\n",
              "      <td>UP Diliman</td>\n",
              "      <td>Undergraduate (e.g., BA, BBA, BS)</td>\n",
              "      <td>NaN</td>\n",
              "      <td>NaN</td>\n",
              "      <td>...</td>\n",
              "      <td>1</td>\n",
              "      <td>0</td>\n",
              "      <td>1</td>\n",
              "      <td>1</td>\n",
              "      <td>1</td>\n",
              "      <td>1</td>\n",
              "      <td>1</td>\n",
              "      <td>1</td>\n",
              "      <td>1</td>\n",
              "      <td>1</td>\n",
              "    </tr>\n",
              "    <tr>\n",
              "      <th>2</th>\n",
              "      <td>ENG</td>\n",
              "      <td>6/28/2023 13:04:31</td>\n",
              "      <td>20.0</td>\n",
              "      <td>Male</td>\n",
              "      <td>Filipino, Bisaya</td>\n",
              "      <td>Student</td>\n",
              "      <td>UP Diliman</td>\n",
              "      <td>Undergraduate (e.g., BA, BBA, BS)</td>\n",
              "      <td>NaN</td>\n",
              "      <td>NaN</td>\n",
              "      <td>...</td>\n",
              "      <td>1</td>\n",
              "      <td>1</td>\n",
              "      <td>1</td>\n",
              "      <td>1</td>\n",
              "      <td>1</td>\n",
              "      <td>1</td>\n",
              "      <td>1</td>\n",
              "      <td>1</td>\n",
              "      <td>1</td>\n",
              "      <td>1</td>\n",
              "    </tr>\n",
              "    <tr>\n",
              "      <th>3</th>\n",
              "      <td>ENG</td>\n",
              "      <td>6/28/2023 13:14:18</td>\n",
              "      <td>22.0</td>\n",
              "      <td>Male</td>\n",
              "      <td>Filipino, English</td>\n",
              "      <td>Student</td>\n",
              "      <td>UP Diliman</td>\n",
              "      <td>Undergraduate (e.g., BA, BBA, BS)</td>\n",
              "      <td>NaN</td>\n",
              "      <td>NaN</td>\n",
              "      <td>...</td>\n",
              "      <td>1</td>\n",
              "      <td>1</td>\n",
              "      <td>1</td>\n",
              "      <td>1</td>\n",
              "      <td>1</td>\n",
              "      <td>1</td>\n",
              "      <td>1</td>\n",
              "      <td>1</td>\n",
              "      <td>1</td>\n",
              "      <td>1</td>\n",
              "    </tr>\n",
              "    <tr>\n",
              "      <th>4</th>\n",
              "      <td>ENG</td>\n",
              "      <td>6/28/2023 13:16:18</td>\n",
              "      <td>22.0</td>\n",
              "      <td>Male</td>\n",
              "      <td>English</td>\n",
              "      <td>Student</td>\n",
              "      <td>LPU Laguna</td>\n",
              "      <td>Undergraduate (e.g., BA, BBA, BS)</td>\n",
              "      <td>NaN</td>\n",
              "      <td>NaN</td>\n",
              "      <td>...</td>\n",
              "      <td>1</td>\n",
              "      <td>0</td>\n",
              "      <td>1</td>\n",
              "      <td>1</td>\n",
              "      <td>1</td>\n",
              "      <td>1</td>\n",
              "      <td>1</td>\n",
              "      <td>1</td>\n",
              "      <td>1</td>\n",
              "      <td>1</td>\n",
              "    </tr>\n",
              "    <tr>\n",
              "      <th>5</th>\n",
              "      <td>ENG</td>\n",
              "      <td>6/28/2023 13:17:55</td>\n",
              "      <td>22.0</td>\n",
              "      <td>Female</td>\n",
              "      <td>Filipino, English</td>\n",
              "      <td>Student</td>\n",
              "      <td>UPLB</td>\n",
              "      <td>Undergraduate (e.g., BA, BBA, BS)</td>\n",
              "      <td>NaN</td>\n",
              "      <td>NaN</td>\n",
              "      <td>...</td>\n",
              "      <td>1</td>\n",
              "      <td>1</td>\n",
              "      <td>1</td>\n",
              "      <td>1</td>\n",
              "      <td>1</td>\n",
              "      <td>1</td>\n",
              "      <td>1</td>\n",
              "      <td>1</td>\n",
              "      <td>1</td>\n",
              "      <td>1</td>\n",
              "    </tr>\n",
              "  </tbody>\n",
              "</table>\n",
              "<p>5 rows × 122 columns</p>\n",
              "</div>"
            ],
            "text/plain": [
              "  Survey Language           Timestamp   Age  Gender Preferred Languages  \\\n",
              "1             ENG  6/28/2023 12:58:40  21.0    Male             English   \n",
              "2             ENG  6/28/2023 13:04:31  20.0    Male    Filipino, Bisaya   \n",
              "3             ENG  6/28/2023 13:14:18  22.0    Male   Filipino, English   \n",
              "4             ENG  6/28/2023 13:16:18  22.0    Male             English   \n",
              "5             ENG  6/28/2023 13:17:55  22.0  Female   Filipino, English   \n",
              "\n",
              "  Current Occupation Last School Attended     Highest Educational Attainment  \\\n",
              "1            Student           UP Diliman  Undergraduate (e.g., BA, BBA, BS)   \n",
              "2            Student           UP Diliman  Undergraduate (e.g., BA, BBA, BS)   \n",
              "3            Student           UP Diliman  Undergraduate (e.g., BA, BBA, BS)   \n",
              "4            Student           LPU Laguna  Undergraduate (e.g., BA, BBA, BS)   \n",
              "5            Student                 UPLB  Undergraduate (e.g., BA, BBA, BS)   \n",
              "\n",
              "   Associate Program Undergraduate Program D  ... POSTK07 POSTK08 POSTK09  \\\n",
              "1                NaN                     NaN  ...       1       0       1   \n",
              "2                NaN                     NaN  ...       1       1       1   \n",
              "3                NaN                     NaN  ...       1       1       1   \n",
              "4                NaN                     NaN  ...       1       0       1   \n",
              "5                NaN                     NaN  ...       1       1       1   \n",
              "\n",
              "  POSTK10 POSTK11  POSTK12  POSTK13  POSTK14  POSTK15  POSTK16  \n",
              "1       1       1        1        1        1        1        1  \n",
              "2       1       1        1        1        1        1        1  \n",
              "3       1       1        1        1        1        1        1  \n",
              "4       1       1        1        1        1        1        1  \n",
              "5       1       1        1        1        1        1        1  \n",
              "\n",
              "[5 rows x 122 columns]"
            ]
          },
          "execution_count": 66,
          "metadata": {},
          "output_type": "execute_result"
        }
      ],
      "source": [
        "# Import libraries\n",
        "import pandas as pd\n",
        "import openpyxl\n",
        "\n",
        "# Open sheet document\n",
        "# workbook = openpyxl.load_workbook(filename = 'SurveyResponses.xlsx')\n",
        "# worksheet = workbook['TalliedResponses_Anon']\n",
        "# worksheet.max_column\n",
        "worksheet = pd.read_csv(\"SurveyResponses.csv\")\n",
        "\n",
        "\n",
        "# Pre-test/Post-test survey responses\n",
        "df_raw = worksheet.iloc[1:]\n",
        "\n",
        "df_raw[0:5]\n"
      ]
    },
    {
      "attachments": {},
      "cell_type": "markdown",
      "metadata": {
        "id": "GX8XQigCazQL"
      },
      "source": [
        "## Summary of Responses"
      ]
    },
    {
      "cell_type": "code",
      "execution_count": 67,
      "metadata": {
        "colab": {
          "base_uri": "https://localhost:8080/",
          "height": 330
        },
        "id": "4OHKwDjoFKEB",
        "outputId": "f6e503f7-a451-402c-aa20-963f61734d7e"
      },
      "outputs": [
        {
          "name": "stderr",
          "output_type": "stream",
          "text": [
            "C:\\Users\\Joshua Doros\\AppData\\Local\\Temp\\ipykernel_3052\\640502283.py:4: SettingWithCopyWarning: \n",
            "A value is trying to be set on a copy of a slice from a DataFrame.\n",
            "Try using .loc[row_indexer,col_indexer] = value instead\n",
            "\n",
            "See the caveats in the documentation: https://pandas.pydata.org/pandas-docs/stable/user_guide/indexing.html#returning-a-view-versus-a-copy\n",
            "  df_summary[[\"PRE Interest\", \"POST Interest\", \"PRE Knowledge\", \"POST Knowledge\"]] = df_summary[[\"PRE Interest\", \"POST Interest\", \"PRE Knowledge\", \"POST Knowledge\"]].astype(int)\n"
          ]
        },
        {
          "data": {
            "text/html": [
              "<div>\n",
              "<style scoped>\n",
              "    .dataframe tbody tr th:only-of-type {\n",
              "        vertical-align: middle;\n",
              "    }\n",
              "\n",
              "    .dataframe tbody tr th {\n",
              "        vertical-align: top;\n",
              "    }\n",
              "\n",
              "    .dataframe thead th {\n",
              "        text-align: right;\n",
              "    }\n",
              "</style>\n",
              "<table border=\"1\" class=\"dataframe\">\n",
              "  <thead>\n",
              "    <tr style=\"text-align: right;\">\n",
              "      <th></th>\n",
              "      <th>Age</th>\n",
              "      <th>Gender</th>\n",
              "      <th>Preferred Languages</th>\n",
              "      <th>Current Occupation</th>\n",
              "      <th>Undergraduate Program B</th>\n",
              "      <th>PRE Interest</th>\n",
              "      <th>POST Interest</th>\n",
              "      <th>PRE Knowledge</th>\n",
              "      <th>POST Knowledge</th>\n",
              "    </tr>\n",
              "  </thead>\n",
              "  <tbody>\n",
              "    <tr>\n",
              "      <th>1</th>\n",
              "      <td>21.0</td>\n",
              "      <td>Male</td>\n",
              "      <td>English</td>\n",
              "      <td>Student</td>\n",
              "      <td>BS Computer Science</td>\n",
              "      <td>41</td>\n",
              "      <td>43</td>\n",
              "      <td>15</td>\n",
              "      <td>15</td>\n",
              "    </tr>\n",
              "    <tr>\n",
              "      <th>2</th>\n",
              "      <td>20.0</td>\n",
              "      <td>Male</td>\n",
              "      <td>Filipino, Bisaya</td>\n",
              "      <td>Student</td>\n",
              "      <td>BS Food Technology</td>\n",
              "      <td>18</td>\n",
              "      <td>40</td>\n",
              "      <td>14</td>\n",
              "      <td>14</td>\n",
              "    </tr>\n",
              "    <tr>\n",
              "      <th>3</th>\n",
              "      <td>22.0</td>\n",
              "      <td>Male</td>\n",
              "      <td>Filipino, English</td>\n",
              "      <td>Student</td>\n",
              "      <td>BS Applied Physics</td>\n",
              "      <td>30</td>\n",
              "      <td>42</td>\n",
              "      <td>15</td>\n",
              "      <td>16</td>\n",
              "    </tr>\n",
              "    <tr>\n",
              "      <th>4</th>\n",
              "      <td>22.0</td>\n",
              "      <td>Male</td>\n",
              "      <td>English</td>\n",
              "      <td>Student</td>\n",
              "      <td>BS Industrial Engineering</td>\n",
              "      <td>42</td>\n",
              "      <td>49</td>\n",
              "      <td>15</td>\n",
              "      <td>14</td>\n",
              "    </tr>\n",
              "    <tr>\n",
              "      <th>5</th>\n",
              "      <td>22.0</td>\n",
              "      <td>Female</td>\n",
              "      <td>Filipino, English</td>\n",
              "      <td>Student</td>\n",
              "      <td>BS Chemistry</td>\n",
              "      <td>37</td>\n",
              "      <td>43</td>\n",
              "      <td>16</td>\n",
              "      <td>16</td>\n",
              "    </tr>\n",
              "  </tbody>\n",
              "</table>\n",
              "</div>"
            ],
            "text/plain": [
              "    Age  Gender Preferred Languages Current Occupation  \\\n",
              "1  21.0    Male             English            Student   \n",
              "2  20.0    Male    Filipino, Bisaya            Student   \n",
              "3  22.0    Male   Filipino, English            Student   \n",
              "4  22.0    Male             English            Student   \n",
              "5  22.0  Female   Filipino, English            Student   \n",
              "\n",
              "     Undergraduate Program B  PRE Interest  POST Interest  PRE Knowledge  \\\n",
              "1        BS Computer Science            41             43             15   \n",
              "2         BS Food Technology            18             40             14   \n",
              "3         BS Applied Physics            30             42             15   \n",
              "4  BS Industrial Engineering            42             49             15   \n",
              "5               BS Chemistry            37             43             16   \n",
              "\n",
              "   POST Knowledge  \n",
              "1              15  \n",
              "2              14  \n",
              "3              16  \n",
              "4              14  \n",
              "5              16  "
            ]
          },
          "execution_count": 67,
          "metadata": {},
          "output_type": "execute_result"
        }
      ],
      "source": [
        "# Summary of Responses (Tallied Cybersecurity Interest and Knowledge Scores)\n",
        "df_summary = df_raw[[\"Age\", \"Gender\", \"Preferred Languages\", \"Current Occupation\", \"Undergraduate Program B\", \"PRE Interest\", \"POST Interest\", \"PRE Knowledge\", \"POST Knowledge\"]]\n",
        "\n",
        "df_summary[[\"PRE Interest\", \"POST Interest\", \"PRE Knowledge\", \"POST Knowledge\"]] = df_summary[[\"PRE Interest\", \"POST Interest\", \"PRE Knowledge\", \"POST Knowledge\"]].astype(int)\n",
        "df_summary[0:5]"
      ]
    },
    {
      "attachments": {},
      "cell_type": "markdown",
      "metadata": {
        "id": "N4cXEy23a66r"
      },
      "source": [
        "### Right-tailed Paired Samples t-Test\n",
        "\n",
        "> $H_0$: $\\mu_1 \\gt \\mu_2$ (population 1 mean is *greater than* population 2 mean) \\\\\n",
        "> $H_1$: $\\mu_1 \\leq \\mu_2$ (population 1 mean is *less than* or *equal to* population 2 mean)"
      ]
    },
    {
      "attachments": {},
      "cell_type": "markdown",
      "metadata": {
        "id": "wZRwFXHCfmM4"
      },
      "source": [
        "#### Is POST Interest $\\gt$ PRE Interest?\n",
        "\n",
        "> $H_0$: CyberScapes did NOT enhance the cybersecurity interest of the participants. \\\\\n",
        "> $H_1$: CyberScapes enhanced the cybersecurity interest of the participants."
      ]
    },
    {
      "cell_type": "code",
      "execution_count": 68,
      "metadata": {
        "colab": {
          "base_uri": "https://localhost:8080/"
        },
        "id": "0e-CJuO2_d3l",
        "outputId": "58ada53a-2181-4e70-ad95-ab74023c1a93"
      },
      "outputs": [
        {
          "data": {
            "text/plain": [
              "TtestResult(statistic=5.0789900097492895, pvalue=5.8997108231260355e-06, df=36)"
            ]
          },
          "execution_count": 68,
          "metadata": {},
          "output_type": "execute_result"
        }
      ],
      "source": [
        "from scipy.stats import ttest_rel\n",
        "# Paired Samples t-Test (PRE vs POST Cybersecurity Interest)\n",
        "\n",
        "ttest_rel(df_summary['POST Interest'], df_summary['PRE Interest'], alternative='greater')"
      ]
    },
    {
      "attachments": {},
      "cell_type": "markdown",
      "metadata": {
        "id": "9qn3bLgeeDvU"
      },
      "source": [
        "Performing a right-tailed paired samples t-test on the observed POST and PRE interest scores revealed a p-value of $p ≈ 1.277 \\times 10^{-5}$ which is far less than $0.05$, rejecting the null hypothesis. Thus, CyberScapes enhanced the cybersecurity interest of the participants."
      ]
    },
    {
      "attachments": {},
      "cell_type": "markdown",
      "metadata": {
        "id": "NHJtJ-oikfbE"
      },
      "source": [
        "#### Is POST Knowledge $\\gt$ PRE Knowledge?\n",
        "\n",
        "$H_0$: CyberScapes did NOT enhance the cybersecurity knowledge of the participants. \\\\\n",
        "$H_1$: CyberScapes enhanced the cybersecurity knowledge of the participants."
      ]
    },
    {
      "cell_type": "code",
      "execution_count": 69,
      "metadata": {
        "colab": {
          "base_uri": "https://localhost:8080/"
        },
        "id": "SCj4SNTaPX2y",
        "outputId": "01baf88a-6eb7-426d-f8c5-1a3b7cb8c5f1"
      },
      "outputs": [
        {
          "data": {
            "text/plain": [
              "TtestResult(statistic=0.5131350685123557, pvalue=0.3054958117264494, df=36)"
            ]
          },
          "execution_count": 69,
          "metadata": {},
          "output_type": "execute_result"
        }
      ],
      "source": [
        "# Paired Samples t-Test (PRE vs POST Cybersecurity Knowledge)\n",
        "\n",
        "ttest_rel(df_summary['POST Knowledge'], df_summary['PRE Knowledge'], alternative='greater')"
      ]
    },
    {
      "attachments": {},
      "cell_type": "markdown",
      "metadata": {
        "id": "90sIQ-bsklz0"
      },
      "source": [
        "A right-tailed paired samples t-test on the observe POST and PRE Knowledge scores reveals a p-value of $p ≈ 0.305$ which is greater than $0.05$, failing to reject the null hypothesis. Thus, CyberScapes did not have an effect in improving the cybersecurity knowledge of the participants."
      ]
    },
    {
      "attachments": {},
      "cell_type": "markdown",
      "metadata": {
        "id": "x9WyZTQUnLMy"
      },
      "source": [
        "### Two Samples Independent t-Test\n",
        "\n",
        "$H_0$: $\\mu_1 = \\mu_2$ (population 1 mean is *equal to* population 2 mean) \\\\\n",
        "$H_1$: $\\mu_1 \\neq \\mu_2$ (population 1 mean is *unequal to* population 2 mean)"
      ]
    },
    {
      "attachments": {},
      "cell_type": "markdown",
      "metadata": {
        "id": "QPqJ8BsZlXPc"
      },
      "source": [
        "#### Is there a significant difference in the cybersecurity interest enhancement of Computer Science undergraduates and NON-Computer Science undergraduates?\n",
        "\n",
        "$H_0$: Cybersecurity interest improvement of Computer Science undergraduates is equal to the cybersecurity improvement of NON-Computer Science undergraduates. \\\\\n",
        "$H_1$: Cybersecurity interest improvement of Computer Science and Non-Computer Science undergraduates are unequal."
      ]
    },
    {
      "cell_type": "code",
      "execution_count": 70,
      "metadata": {
        "colab": {
          "base_uri": "https://localhost:8080/"
        },
        "id": "hr4W1s_LQFfi",
        "outputId": "f521a21c-0fde-4962-d0d9-b96128972c4e"
      },
      "outputs": [
        {
          "data": {
            "text/plain": [
              "Ttest_indResult(statistic=0.13683410325130582, pvalue=0.8919460213690391)"
            ]
          },
          "execution_count": 70,
          "metadata": {},
          "output_type": "execute_result"
        }
      ],
      "source": [
        "from scipy.stats import ttest_ind\n",
        "\n",
        "# Independent Two Sample t-Test (Com Sci vs. Non-Com Sci Cybersecurity Interest)\n",
        "\n",
        "df_comsci = df_summary.loc[df_summary['Undergraduate Program B'] == \"BS Computer Science\"]\n",
        "df_noncomsci = df_summary.loc[df_summary['Undergraduate Program B'] != \"BS Computer Science\"]\n",
        "\n",
        "ttest_ind(df_comsci['POST Interest'] - df_comsci['PRE Interest'], df_noncomsci['POST Interest'] - df_noncomsci['PRE Interest'])"
      ]
    },
    {
      "attachments": {},
      "cell_type": "markdown",
      "metadata": {
        "id": "fxLzcVJzoHu6"
      },
      "source": [
        "#### Is there a significant difference in the PRIOR cybersecurity **knowledge** of Computer Science undergraduates and NON-Computer Science undergraduates?\n",
        "\n",
        "$H_0$: PRIOR cybersecurity knowledge of Computer Science and Non-Computer Science undergraduates are *equal*. \\\\\n",
        "$H_1$: PRIOR cybersecurity knowledge of Computer Science and Non-Computer Science undergraduates are *unequal*."
      ]
    },
    {
      "cell_type": "code",
      "execution_count": 71,
      "metadata": {
        "colab": {
          "base_uri": "https://localhost:8080/"
        },
        "id": "V70iunJQR3do",
        "outputId": "d42b9d50-0f9e-4696-aa54-74ed84229503"
      },
      "outputs": [
        {
          "data": {
            "text/plain": [
              "Ttest_indResult(statistic=1.3137435166034428, pvalue=0.19747911819959105)"
            ]
          },
          "execution_count": 71,
          "metadata": {},
          "output_type": "execute_result"
        }
      ],
      "source": [
        "# Independent Two Sample t-Test (Com Sci vs. Non-Com Sci Knowledge)\n",
        "\n",
        "ttest_ind(df_comsci['PRE Knowledge'], df_noncomsci['PRE Knowledge'])"
      ]
    },
    {
      "attachments": {},
      "cell_type": "markdown",
      "metadata": {
        "id": "pjdm59Oro7HC"
      },
      "source": [
        "#### Is there a significant difference in the PRIOR cybersecurity **interest** of Computer Science undergraduates and NON-Computer Science undergraduates?\n",
        "\n",
        "$H_0$: PRIOR cybersecurity interest of Computer Science and Non-Computer Science undergraduates are *equal*. \\\\\n",
        "$H_1$: PRIOR cybersecurity interest of Computer Science and Non-Computer Science undergraduates are *unequal*."
      ]
    },
    {
      "cell_type": "code",
      "execution_count": 72,
      "metadata": {
        "colab": {
          "base_uri": "https://localhost:8080/"
        },
        "id": "hXs10lCQpXT6",
        "outputId": "328f324b-cb9f-4e64-8fac-5df17d31e86a"
      },
      "outputs": [
        {
          "data": {
            "text/plain": [
              "Ttest_indResult(statistic=0.9560605988827486, pvalue=0.3455990491662936)"
            ]
          },
          "execution_count": 72,
          "metadata": {},
          "output_type": "execute_result"
        }
      ],
      "source": [
        "# Independent Two Sample t-Test (Com Sci vs. Non-Com Sci Interest)\n",
        "\n",
        "ttest_ind(df_comsci['PRE Interest'], df_noncomsci['PRE Interest'])"
      ]
    },
    {
      "attachments": {},
      "cell_type": "markdown",
      "metadata": {
        "id": "INP9dq8bNNmH"
      },
      "source": [
        "#### Is there a significant difference in the PRIOR cybersecurity **interest** of Male vs Female participants?\n",
        "\n",
        "$H_0$: PRIOR cybersecurity interest of Male and Female participants are *equal*. \\\\\n",
        "$H_1$: PRIOR cybersecurity interest of Male and Female participants are *unequal*."
      ]
    },
    {
      "cell_type": "code",
      "execution_count": 73,
      "metadata": {
        "colab": {
          "base_uri": "https://localhost:8080/"
        },
        "id": "RV3M9QNwnFXR",
        "outputId": "c36204fa-684f-4015-b0e6-a0da9e75faf9"
      },
      "outputs": [
        {
          "data": {
            "text/plain": [
              "Ttest_indResult(statistic=-0.02503648714837312, pvalue=0.9801680642060083)"
            ]
          },
          "execution_count": 73,
          "metadata": {},
          "output_type": "execute_result"
        }
      ],
      "source": [
        "# Independent Two Sample t-Test (Male vs. Female PRE Cybersecurity Interest)\n",
        "\n",
        "df_male = df_summary.loc[df_summary['Gender'] == \"Male\"]\n",
        "df_female = df_summary.loc[df_summary['Gender'] == \"Female\"]\n",
        "\n",
        "\n",
        "ttest_ind(df_male['PRE Interest'], df_female['PRE Interest'])"
      ]
    },
    {
      "attachments": {},
      "cell_type": "markdown",
      "metadata": {
        "id": "z7-K0_lXO2IK"
      },
      "source": [
        "#### Is there a significant difference in the PRIOR cybersecurity **interest** of  Male vs Female Non-Computer Science undergraduates?\n",
        "\n",
        "$H_0$: PRIOR cybersecurity interest of Male and Female non-Computer Science undergraduate participants are *equal*. \\\\\n",
        "$H_1$: PRIOR cybersecurity interest of Male and Female non-Computer Science undergraduate participants are *unequal*."
      ]
    },
    {
      "cell_type": "code",
      "execution_count": 74,
      "metadata": {
        "colab": {
          "base_uri": "https://localhost:8080/"
        },
        "id": "Vkg4-UK6ofvr",
        "outputId": "2ae750e4-c992-4983-b048-c6c090342c3e"
      },
      "outputs": [
        {
          "data": {
            "text/plain": [
              "Ttest_indResult(statistic=0.16609521314262957, pvalue=0.8694733425697461)"
            ]
          },
          "execution_count": 74,
          "metadata": {},
          "output_type": "execute_result"
        }
      ],
      "source": [
        "# Independent Two Sample t-Test (NON-ComSci Male vs. Female PRE Cybersecurity Interest)\n",
        "\n",
        "df_noncomsci_male = df_noncomsci.loc[df_noncomsci['Gender'] == \"Male\"]\n",
        "df_noncomsci_female = df_noncomsci.loc[df_noncomsci['Gender'] == \"Female\"]\n",
        "\n",
        "\n",
        "ttest_ind(df_noncomsci_male['PRE Interest'], df_noncomsci_female['PRE Interest'])"
      ]
    },
    {
      "attachments": {},
      "cell_type": "markdown",
      "metadata": {
        "id": "nrqJ8oWOXgyo"
      },
      "source": [
        "### Percentage of Correct Responses per Question (Knowledge)"
      ]
    },
    {
      "cell_type": "code",
      "execution_count": 75,
      "metadata": {
        "colab": {
          "base_uri": "https://localhost:8080/",
          "height": 551
        },
        "id": "BtBKhKxjFkIx",
        "outputId": "7e7f8c46-ca99-4b19-bad7-c79ba1fc298d"
      },
      "outputs": [
        {
          "data": {
            "text/html": [
              "<div>\n",
              "<style scoped>\n",
              "    .dataframe tbody tr th:only-of-type {\n",
              "        vertical-align: middle;\n",
              "    }\n",
              "\n",
              "    .dataframe tbody tr th {\n",
              "        vertical-align: top;\n",
              "    }\n",
              "\n",
              "    .dataframe thead th {\n",
              "        text-align: right;\n",
              "    }\n",
              "</style>\n",
              "<table border=\"1\" class=\"dataframe\">\n",
              "  <thead>\n",
              "    <tr style=\"text-align: right;\">\n",
              "      <th></th>\n",
              "      <th>PRE Knowledge</th>\n",
              "      <th>POST Knowledge</th>\n",
              "    </tr>\n",
              "  </thead>\n",
              "  <tbody>\n",
              "    <tr>\n",
              "      <th>0</th>\n",
              "      <td>0.945946</td>\n",
              "      <td>1.000000</td>\n",
              "    </tr>\n",
              "    <tr>\n",
              "      <th>1</th>\n",
              "      <td>0.972973</td>\n",
              "      <td>1.000000</td>\n",
              "    </tr>\n",
              "    <tr>\n",
              "      <th>2</th>\n",
              "      <td>0.810811</td>\n",
              "      <td>0.810811</td>\n",
              "    </tr>\n",
              "    <tr>\n",
              "      <th>3</th>\n",
              "      <td>1.000000</td>\n",
              "      <td>0.972973</td>\n",
              "    </tr>\n",
              "    <tr>\n",
              "      <th>4</th>\n",
              "      <td>0.891892</td>\n",
              "      <td>0.945946</td>\n",
              "    </tr>\n",
              "    <tr>\n",
              "      <th>5</th>\n",
              "      <td>0.756757</td>\n",
              "      <td>0.648649</td>\n",
              "    </tr>\n",
              "    <tr>\n",
              "      <th>6</th>\n",
              "      <td>0.972973</td>\n",
              "      <td>1.000000</td>\n",
              "    </tr>\n",
              "    <tr>\n",
              "      <th>7</th>\n",
              "      <td>0.837838</td>\n",
              "      <td>0.837838</td>\n",
              "    </tr>\n",
              "    <tr>\n",
              "      <th>8</th>\n",
              "      <td>0.945946</td>\n",
              "      <td>0.972973</td>\n",
              "    </tr>\n",
              "    <tr>\n",
              "      <th>9</th>\n",
              "      <td>0.972973</td>\n",
              "      <td>1.000000</td>\n",
              "    </tr>\n",
              "    <tr>\n",
              "      <th>10</th>\n",
              "      <td>0.972973</td>\n",
              "      <td>1.000000</td>\n",
              "    </tr>\n",
              "    <tr>\n",
              "      <th>11</th>\n",
              "      <td>0.972973</td>\n",
              "      <td>1.000000</td>\n",
              "    </tr>\n",
              "    <tr>\n",
              "      <th>12</th>\n",
              "      <td>0.945946</td>\n",
              "      <td>0.945946</td>\n",
              "    </tr>\n",
              "    <tr>\n",
              "      <th>13</th>\n",
              "      <td>0.972973</td>\n",
              "      <td>1.000000</td>\n",
              "    </tr>\n",
              "    <tr>\n",
              "      <th>14</th>\n",
              "      <td>0.972973</td>\n",
              "      <td>1.000000</td>\n",
              "    </tr>\n",
              "    <tr>\n",
              "      <th>15</th>\n",
              "      <td>0.972973</td>\n",
              "      <td>0.945946</td>\n",
              "    </tr>\n",
              "  </tbody>\n",
              "</table>\n",
              "</div>"
            ],
            "text/plain": [
              "    PRE Knowledge  POST Knowledge\n",
              "0        0.945946        1.000000\n",
              "1        0.972973        1.000000\n",
              "2        0.810811        0.810811\n",
              "3        1.000000        0.972973\n",
              "4        0.891892        0.945946\n",
              "5        0.756757        0.648649\n",
              "6        0.972973        1.000000\n",
              "7        0.837838        0.837838\n",
              "8        0.945946        0.972973\n",
              "9        0.972973        1.000000\n",
              "10       0.972973        1.000000\n",
              "11       0.972973        1.000000\n",
              "12       0.945946        0.945946\n",
              "13       0.972973        1.000000\n",
              "14       0.972973        1.000000\n",
              "15       0.972973        0.945946"
            ]
          },
          "execution_count": 75,
          "metadata": {},
          "output_type": "execute_result"
        }
      ],
      "source": [
        "# Gained points for Individual Questions (Knowledge)\n",
        "\n",
        "# PRE Knowledge\n",
        "df_points_PREK = df_raw[['Undergraduate Program B', \"PREK01\", \"PREK02\", \"PREK03\", \"PREK04\", \"PREK05\", \"PREK06\", \"PREK07\", \"PREK08\", \"PREK09\", \"PREK10\", \"PREK11\", \"PREK12\", \"PREK13\", \"PREK14\", \"PREK15\", \"PREK16\"]]\n",
        "df_points_PREK_sum = df_points_PREK.drop(['Undergraduate Program B'], axis=1).astype(int).sum()\n",
        "\n",
        "# POST Knowledge\n",
        "df_points_POSTK = df_raw[['Undergraduate Program B', \"POSTK01\", \"POSTK02\", \"POSTK03\", \"POSTK04\", \"POSTK05\", \"POSTK06\", \"POSTK07\", \"POSTK08\", \"POSTK09\", \"POSTK10\", \"POSTK11\", \"POSTK12\", \"POSTK13\", \"POSTK14\", \"POSTK15\", \"POSTK16\"]]\n",
        "df_points_POSTK_sum = df_points_POSTK.drop(['Undergraduate Program B'], axis=1).astype(int).sum()\n",
        "\n",
        "# Put in one Dataframe\n",
        "df_points_knowledge = pd.DataFrame()\n",
        "df_points_knowledge[\"PRE Knowledge\"] = df_points_PREK_sum.values/df_summary.shape[0]\n",
        "df_points_knowledge[\"POST Knowledge\"] = df_points_POSTK_sum.values/df_summary.shape[0]\n",
        "\n",
        "df_points_knowledge"
      ]
    },
    {
      "attachments": {},
      "cell_type": "markdown",
      "metadata": {
        "id": "PYgr8tllZJMo"
      },
      "source": [
        "Each question testing the cybersecurity knowledge of participants were answered correctly by the majority (approximately above $80\\%$) of the participants, except question $\\#6$ (mitigation of risks associated with typosquatting) where only $\\approx 65$ got the correct answers on the POST test."
      ]
    },
    {
      "attachments": {},
      "cell_type": "markdown",
      "metadata": {
        "id": "59KlA9FgYRTn"
      },
      "source": [
        "### Agreement per Statement in Likert Scale (Interest)"
      ]
    },
    {
      "cell_type": "code",
      "execution_count": 76,
      "metadata": {
        "colab": {
          "base_uri": "https://localhost:8080/",
          "height": 363
        },
        "id": "DqbBuQJjWPRI",
        "outputId": "1aa069bf-0cf3-4676-8a2a-8a2621da07d7"
      },
      "outputs": [
        {
          "data": {
            "text/html": [
              "<div>\n",
              "<style scoped>\n",
              "    .dataframe tbody tr th:only-of-type {\n",
              "        vertical-align: middle;\n",
              "    }\n",
              "\n",
              "    .dataframe tbody tr th {\n",
              "        vertical-align: top;\n",
              "    }\n",
              "\n",
              "    .dataframe thead th {\n",
              "        text-align: right;\n",
              "    }\n",
              "</style>\n",
              "<table border=\"1\" class=\"dataframe\">\n",
              "  <thead>\n",
              "    <tr style=\"text-align: right;\">\n",
              "      <th></th>\n",
              "      <th>Statement</th>\n",
              "      <th>PRE Interest</th>\n",
              "      <th>POST Interest</th>\n",
              "    </tr>\n",
              "  </thead>\n",
              "  <tbody>\n",
              "    <tr>\n",
              "      <th>0</th>\n",
              "      <td>Knowledgeable in C.S.</td>\n",
              "      <td>3.270270</td>\n",
              "      <td>4.027027</td>\n",
              "    </tr>\n",
              "    <tr>\n",
              "      <th>1</th>\n",
              "      <td>Interested in learning C.S.</td>\n",
              "      <td>4.189189</td>\n",
              "      <td>4.243243</td>\n",
              "    </tr>\n",
              "    <tr>\n",
              "      <th>2</th>\n",
              "      <td>Actively eeking info about C.S.</td>\n",
              "      <td>3.540541</td>\n",
              "      <td>4.054054</td>\n",
              "    </tr>\n",
              "    <tr>\n",
              "      <th>3</th>\n",
              "      <td>Updated on news about C.S.</td>\n",
              "      <td>2.783784</td>\n",
              "      <td>4.027027</td>\n",
              "    </tr>\n",
              "    <tr>\n",
              "      <th>4</th>\n",
              "      <td>Usability of C.S. in day life</td>\n",
              "      <td>4.216216</td>\n",
              "      <td>4.648649</td>\n",
              "    </tr>\n",
              "    <tr>\n",
              "      <th>5</th>\n",
              "      <td>Ensuring safety of accounts</td>\n",
              "      <td>4.189189</td>\n",
              "      <td>4.594595</td>\n",
              "    </tr>\n",
              "    <tr>\n",
              "      <th>6</th>\n",
              "      <td>Securing online presence</td>\n",
              "      <td>4.000000</td>\n",
              "      <td>4.405405</td>\n",
              "    </tr>\n",
              "    <tr>\n",
              "      <th>7</th>\n",
              "      <td>Confidence in protecting info</td>\n",
              "      <td>3.540541</td>\n",
              "      <td>4.135135</td>\n",
              "    </tr>\n",
              "    <tr>\n",
              "      <th>8</th>\n",
              "      <td>Pursuing degree re C.S.</td>\n",
              "      <td>2.675676</td>\n",
              "      <td>2.918919</td>\n",
              "    </tr>\n",
              "    <tr>\n",
              "      <th>9</th>\n",
              "      <td>Pursuing work re C.S.</td>\n",
              "      <td>2.621622</td>\n",
              "      <td>2.945946</td>\n",
              "    </tr>\n",
              "  </tbody>\n",
              "</table>\n",
              "</div>"
            ],
            "text/plain": [
              "                         Statement  PRE Interest  POST Interest\n",
              "0            Knowledgeable in C.S.      3.270270       4.027027\n",
              "1      Interested in learning C.S.      4.189189       4.243243\n",
              "2  Actively eeking info about C.S.      3.540541       4.054054\n",
              "3       Updated on news about C.S.      2.783784       4.027027\n",
              "4    Usability of C.S. in day life      4.216216       4.648649\n",
              "5      Ensuring safety of accounts      4.189189       4.594595\n",
              "6         Securing online presence      4.000000       4.405405\n",
              "7    Confidence in protecting info      3.540541       4.135135\n",
              "8          Pursuing degree re C.S.      2.675676       2.918919\n",
              "9            Pursuing work re C.S.      2.621622       2.945946"
            ]
          },
          "execution_count": 76,
          "metadata": {},
          "output_type": "execute_result"
        }
      ],
      "source": [
        "# Gained points for Individual Questions (Interest)\n",
        "\n",
        "# PRE Interest\n",
        "df_points_PREI = df_raw[['Undergraduate Program B', \"PREI01\", \"PREI02\", \"PREI03\", \"PREI04\", \"PREI05\", \"PREI06\", \"PREI07\", \"PREI08\", \"PREI09\", \"PREI10\"]]\n",
        "df_points_PREI_sum = df_points_PREI.drop([ 'Undergraduate Program B'], axis=1).astype(int).sum()\n",
        "\n",
        "# POST Interest\n",
        "df_points_POSTI = df_raw[['Undergraduate Program B', \"POSTI01\", \"POSTI02\", \"POSTI03\", \"POSTI04\", \"POSTI05\", \"POSTI06\", \"POSTI07\", \"POSTI08\", \"POSTI09\", \"POSTI10\"]]\n",
        "df_points_POSTI_sum = df_points_POSTI.drop([ 'Undergraduate Program B'], axis=1).astype(int).sum()\n",
        "\n",
        "# Put in one Dataframe\n",
        "df_points_interest = pd.DataFrame()\n",
        "df_points_interest[\"PRE Interest\"] = (df_points_PREI_sum.values/df_summary.shape[0])\n",
        "df_points_interest[\"POST Interest\"] = (df_points_POSTI_sum.values/df_summary.shape[0])\n",
        "\n",
        "int_statements = [\"Knowledgeable in C.S.\",\n",
        "\"Interested in learning C.S.\",\n",
        "\"Actively eeking info about C.S.\",\n",
        "\"Updated on news about C.S.\",\n",
        "\"Usability of C.S. in day life\",\n",
        "\"Ensuring safety of accounts\",\n",
        "\"Securing online presence\",\n",
        "\"Confidence in protecting info\",\n",
        "\"Pursuing degree re C.S.\",\n",
        "\"Pursuing work re C.S.\"]\n",
        "\n",
        "df_points_interest.insert(0, \"Statement\", int_statements, True)\n",
        "\n",
        "df_points_interest"
      ]
    },
    {
      "attachments": {},
      "cell_type": "markdown",
      "metadata": {
        "id": "uWLcKwNqdT5z"
      },
      "source": [
        "Moderate to high agreement were gained by statements representing participants' cybersecurity interest, except to statements pertaining to their interest in pursuing a degree or career related to cybersecurity. On the average, participants are in between *disinclined* and *neutral* about pursuing a degree or career related to cybersecurity."
      ]
    },
    {
      "cell_type": "code",
      "execution_count": 77,
      "metadata": {
        "colab": {
          "base_uri": "https://localhost:8080/",
          "height": 394
        },
        "id": "9AP3POnDw1yY",
        "outputId": "dda7daf1-3715-4e14-ceb1-220aec108423"
      },
      "outputs": [
        {
          "data": {
            "text/html": [
              "<div>\n",
              "<style scoped>\n",
              "    .dataframe tbody tr th:only-of-type {\n",
              "        vertical-align: middle;\n",
              "    }\n",
              "\n",
              "    .dataframe tbody tr th {\n",
              "        vertical-align: top;\n",
              "    }\n",
              "\n",
              "    .dataframe thead tr th {\n",
              "        text-align: left;\n",
              "    }\n",
              "</style>\n",
              "<table border=\"1\" class=\"dataframe\">\n",
              "  <thead>\n",
              "    <tr>\n",
              "      <th></th>\n",
              "      <th>Statement</th>\n",
              "      <th colspan=\"2\" halign=\"left\">Non-CS Interest</th>\n",
              "      <th colspan=\"2\" halign=\"left\">CS Interest</th>\n",
              "    </tr>\n",
              "    <tr>\n",
              "      <th></th>\n",
              "      <th></th>\n",
              "      <th>PRE</th>\n",
              "      <th>POST</th>\n",
              "      <th>PRE</th>\n",
              "      <th>POST</th>\n",
              "    </tr>\n",
              "  </thead>\n",
              "  <tbody>\n",
              "    <tr>\n",
              "      <th>0</th>\n",
              "      <td>Knowledgeable in C.S.</td>\n",
              "      <td>3.153846</td>\n",
              "      <td>4.038462</td>\n",
              "      <td>3.545455</td>\n",
              "      <td>4.000000</td>\n",
              "    </tr>\n",
              "    <tr>\n",
              "      <th>1</th>\n",
              "      <td>Interested in learning C.S.</td>\n",
              "      <td>4.076923</td>\n",
              "      <td>4.076923</td>\n",
              "      <td>4.454545</td>\n",
              "      <td>4.636364</td>\n",
              "    </tr>\n",
              "    <tr>\n",
              "      <th>2</th>\n",
              "      <td>Actively eeking info about C.S.</td>\n",
              "      <td>3.423077</td>\n",
              "      <td>3.884615</td>\n",
              "      <td>3.818182</td>\n",
              "      <td>4.454545</td>\n",
              "    </tr>\n",
              "    <tr>\n",
              "      <th>3</th>\n",
              "      <td>Updated on news about C.S.</td>\n",
              "      <td>2.576923</td>\n",
              "      <td>3.923077</td>\n",
              "      <td>3.272727</td>\n",
              "      <td>4.272727</td>\n",
              "    </tr>\n",
              "    <tr>\n",
              "      <th>4</th>\n",
              "      <td>Usability of C.S. in day life</td>\n",
              "      <td>4.269231</td>\n",
              "      <td>4.653846</td>\n",
              "      <td>4.090909</td>\n",
              "      <td>4.636364</td>\n",
              "    </tr>\n",
              "    <tr>\n",
              "      <th>5</th>\n",
              "      <td>Ensuring safety of accounts</td>\n",
              "      <td>4.230769</td>\n",
              "      <td>4.615385</td>\n",
              "      <td>4.090909</td>\n",
              "      <td>4.545455</td>\n",
              "    </tr>\n",
              "    <tr>\n",
              "      <th>6</th>\n",
              "      <td>Securing online presence</td>\n",
              "      <td>4.038462</td>\n",
              "      <td>4.307692</td>\n",
              "      <td>3.909091</td>\n",
              "      <td>4.636364</td>\n",
              "    </tr>\n",
              "    <tr>\n",
              "      <th>7</th>\n",
              "      <td>Confidence in protecting info</td>\n",
              "      <td>3.576923</td>\n",
              "      <td>4.153846</td>\n",
              "      <td>3.454545</td>\n",
              "      <td>4.090909</td>\n",
              "    </tr>\n",
              "    <tr>\n",
              "      <th>8</th>\n",
              "      <td>Pursuing degree re C.S.</td>\n",
              "      <td>2.538462</td>\n",
              "      <td>2.769231</td>\n",
              "      <td>3.000000</td>\n",
              "      <td>3.272727</td>\n",
              "    </tr>\n",
              "    <tr>\n",
              "      <th>9</th>\n",
              "      <td>Pursuing work re C.S.</td>\n",
              "      <td>2.461538</td>\n",
              "      <td>2.807692</td>\n",
              "      <td>3.000000</td>\n",
              "      <td>3.272727</td>\n",
              "    </tr>\n",
              "  </tbody>\n",
              "</table>\n",
              "</div>"
            ],
            "text/plain": [
              "                         Statement Non-CS Interest           CS Interest  \\\n",
              "                                               PRE      POST         PRE   \n",
              "0            Knowledgeable in C.S.        3.153846  4.038462    3.545455   \n",
              "1      Interested in learning C.S.        4.076923  4.076923    4.454545   \n",
              "2  Actively eeking info about C.S.        3.423077  3.884615    3.818182   \n",
              "3       Updated on news about C.S.        2.576923  3.923077    3.272727   \n",
              "4    Usability of C.S. in day life        4.269231  4.653846    4.090909   \n",
              "5      Ensuring safety of accounts        4.230769  4.615385    4.090909   \n",
              "6         Securing online presence        4.038462  4.307692    3.909091   \n",
              "7    Confidence in protecting info        3.576923  4.153846    3.454545   \n",
              "8          Pursuing degree re C.S.        2.538462  2.769231    3.000000   \n",
              "9            Pursuing work re C.S.        2.461538  2.807692    3.000000   \n",
              "\n",
              "             \n",
              "       POST  \n",
              "0  4.000000  \n",
              "1  4.636364  \n",
              "2  4.454545  \n",
              "3  4.272727  \n",
              "4  4.636364  \n",
              "5  4.545455  \n",
              "6  4.636364  \n",
              "7  4.090909  \n",
              "8  3.272727  \n",
              "9  3.272727  "
            ]
          },
          "execution_count": 77,
          "metadata": {},
          "output_type": "execute_result"
        }
      ],
      "source": [
        "# Per Item PRE Interest of Non-CS vs. CS Participants\n",
        "\n",
        "df_points_PREI_sum_comsci = df_points_PREI.loc[df_points_PREI['Undergraduate Program B'] == \"BS Computer Science\"].drop(['Undergraduate Program B'], axis=1).astype(int).sum()\n",
        "df_points_PREI_sum_noncomsci = df_points_PREI.loc[df_points_PREI['Undergraduate Program B'] != \"BS Computer Science\"].drop(['Undergraduate Program B'], axis=1).astype(int).sum()\n",
        "\n",
        "# Per Item POST Interest of Non-CS vs. CS Participants\n",
        "\n",
        "df_points_POSTI_sum_comsci = df_points_POSTI.loc[df_points_POSTI['Undergraduate Program B'] == \"BS Computer Science\"].drop(['Undergraduate Program B'], axis=1).astype(int).sum()\n",
        "df_points_POSTI_sum_noncomsci = df_points_POSTI.loc[df_points_POSTI['Undergraduate Program B'] != \"BS Computer Science\"].drop(['Undergraduate Program B'], axis=1).astype(int).sum()\n",
        "\n",
        "mux = pd.MultiIndex.from_product([['Non-CS Interest','CS Interest'], ['PRE','POST']])\n",
        "df_points_interest_ugrad = pd.DataFrame(columns=mux)\n",
        "\n",
        "# Filling up the dataframe with average interest scores per statement\n",
        "\n",
        "df_points_interest_ugrad[\"Non-CS Interest\", \"PRE\"] = (df_points_PREI_sum_noncomsci.values/df_noncomsci.shape[0])\n",
        "df_points_interest_ugrad[\"Non-CS Interest\", \"POST\"] = (df_points_POSTI_sum_noncomsci.values/df_noncomsci.shape[0])\n",
        "df_points_interest_ugrad[\"CS Interest\", \"PRE\"] = (df_points_PREI_sum_comsci.values/df_comsci.shape[0])\n",
        "df_points_interest_ugrad[\"CS Interest\", \"POST\"] = (df_points_POSTI_sum_comsci.values/df_comsci.shape[0])\n",
        "df_points_interest_ugrad.insert(0, \"Statement\", int_statements, True)\n",
        "\n",
        "df_points_interest_ugrad\n"
      ]
    },
    {
      "attachments": {},
      "cell_type": "markdown",
      "metadata": {
        "id": "r-45xHyxzg61"
      },
      "source": [
        "Recall that the above statistical test show NO significant difference in their degree of improvement in cybersecurity improvement through the game. However, in general, a better interest in Cybersecurity can be seen among Computer Science students."
      ]
    },
    {
      "attachments": {},
      "cell_type": "markdown",
      "metadata": {
        "id": "JgXn93S9V8yI"
      },
      "source": [
        "# Gameplay Experience Feedback\n",
        "\n",
        "Participants rating on gameplay experience, particularly with regard to UI/Graphics, Responsiveness and Ease of Gamplay, Sense of Achievement, and Replayability."
      ]
    },
    {
      "cell_type": "code",
      "execution_count": 78,
      "metadata": {
        "colab": {
          "base_uri": "https://localhost:8080/",
          "height": 394
        },
        "id": "eksu4sOoSWwU",
        "outputId": "9df70008-eba2-45ce-e3eb-667a9bcfa882"
      },
      "outputs": [
        {
          "data": {
            "text/html": [
              "<div>\n",
              "<style scoped>\n",
              "    .dataframe tbody tr th:only-of-type {\n",
              "        vertical-align: middle;\n",
              "    }\n",
              "\n",
              "    .dataframe tbody tr th {\n",
              "        vertical-align: top;\n",
              "    }\n",
              "\n",
              "    .dataframe thead th {\n",
              "        text-align: right;\n",
              "    }\n",
              "</style>\n",
              "<table border=\"1\" class=\"dataframe\">\n",
              "  <thead>\n",
              "    <tr style=\"text-align: right;\">\n",
              "      <th></th>\n",
              "      <th>Statement</th>\n",
              "      <th>Rating</th>\n",
              "    </tr>\n",
              "  </thead>\n",
              "  <tbody>\n",
              "    <tr>\n",
              "      <th>0</th>\n",
              "      <td>Intuitiveness</td>\n",
              "      <td>4.567568</td>\n",
              "    </tr>\n",
              "    <tr>\n",
              "      <th>1</th>\n",
              "      <td>Navigation</td>\n",
              "      <td>4.729730</td>\n",
              "    </tr>\n",
              "    <tr>\n",
              "      <th>2</th>\n",
              "      <td>Graphics</td>\n",
              "      <td>4.675676</td>\n",
              "    </tr>\n",
              "    <tr>\n",
              "      <th>3</th>\n",
              "      <td>Difficulty</td>\n",
              "      <td>4.594595</td>\n",
              "    </tr>\n",
              "    <tr>\n",
              "      <th>4</th>\n",
              "      <td>Responsiveness</td>\n",
              "      <td>4.729730</td>\n",
              "    </tr>\n",
              "    <tr>\n",
              "      <th>5</th>\n",
              "      <td>Glitches/Bugs</td>\n",
              "      <td>4.756757</td>\n",
              "    </tr>\n",
              "    <tr>\n",
              "      <th>6</th>\n",
              "      <td>Completion Pride</td>\n",
              "      <td>4.486486</td>\n",
              "    </tr>\n",
              "    <tr>\n",
              "      <th>7</th>\n",
              "      <td>High Score Pride</td>\n",
              "      <td>4.621622</td>\n",
              "    </tr>\n",
              "    <tr>\n",
              "      <th>8</th>\n",
              "      <td>Playing Again</td>\n",
              "      <td>4.405405</td>\n",
              "    </tr>\n",
              "    <tr>\n",
              "      <th>9</th>\n",
              "      <td>Game Variation</td>\n",
              "      <td>4.135135</td>\n",
              "    </tr>\n",
              "    <tr>\n",
              "      <th>10</th>\n",
              "      <td>Non-Repetitive</td>\n",
              "      <td>3.972973</td>\n",
              "    </tr>\n",
              "  </tbody>\n",
              "</table>\n",
              "</div>"
            ],
            "text/plain": [
              "           Statement    Rating\n",
              "0      Intuitiveness  4.567568\n",
              "1         Navigation  4.729730\n",
              "2           Graphics  4.675676\n",
              "3         Difficulty  4.594595\n",
              "4     Responsiveness  4.729730\n",
              "5      Glitches/Bugs  4.756757\n",
              "6   Completion Pride  4.486486\n",
              "7   High Score Pride  4.621622\n",
              "8      Playing Again  4.405405\n",
              "9     Game Variation  4.135135\n",
              "10    Non-Repetitive  3.972973"
            ]
          },
          "execution_count": 78,
          "metadata": {},
          "output_type": "execute_result"
        }
      ],
      "source": [
        "df_feedback_sum = df_raw[[\"FB01\", \"FB02\", \"FB03\", \"FB04\", \"FB05\", \"FB06\", \"FB07\", \"FB08\", \"FB09\", \"FB10\", \"FB11\"]].astype(int).sum()\n",
        "\n",
        "df_feedback = pd.DataFrame()\n",
        "df_feedback[\"Rating\"] = (df_feedback_sum.values/df_summary.shape[0])\n",
        "\n",
        "fb_statements = [\"Intuitiveness\",\n",
        "\"Navigation\",\n",
        "\"Graphics\",\n",
        "\"Difficulty\",\n",
        "\"Responsiveness\",\n",
        "\"Glitches/Bugs\",\n",
        "\"Completion Pride\",\n",
        "\"High Score Pride\",\n",
        "\"Playing Again\",\n",
        "\"Game Variation\",\n",
        "\"Non-Repetitive\"]\n",
        "\n",
        "df_feedback.insert(0, \"Statement\", fb_statements, True)\n",
        "\n",
        "df_feedback"
      ]
    }
  ],
  "metadata": {
    "colab": {
      "provenance": []
    },
    "kernelspec": {
      "display_name": "Python 3",
      "name": "python3"
    },
    "language_info": {
      "codemirror_mode": {
        "name": "ipython",
        "version": 3
      },
      "file_extension": ".py",
      "mimetype": "text/x-python",
      "name": "python",
      "nbconvert_exporter": "python",
      "pygments_lexer": "ipython3",
      "version": "3.11.3"
    }
  },
  "nbformat": 4,
  "nbformat_minor": 0
}
